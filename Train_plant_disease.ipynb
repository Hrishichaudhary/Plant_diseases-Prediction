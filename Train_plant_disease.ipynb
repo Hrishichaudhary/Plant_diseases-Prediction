{
 "cells": [
  {
   "cell_type": "markdown",
   "id": "eb8ff160-c2ce-4434-9bc2-9dc9f0e81e44",
   "metadata": {},
   "source": [
    "## Required Libraries"
   ]
  },
  {
   "cell_type": "code",
   "execution_count": 11,
   "id": "ba58ad94-ad56-4bfb-8953-4789ebffbfa7",
   "metadata": {},
   "outputs": [],
   "source": [
    "import tensorflow as tf\n",
    "import matplotlib.pyplot as plt\n",
    "import pandas as pd\n",
    "import seaborn as sns"
   ]
  },
  {
   "cell_type": "markdown",
   "id": "0a03f745-3467-489e-8843-ed025896091a",
   "metadata": {},
   "source": [
    "## Preprocessing of Data"
   ]
  },
  {
   "cell_type": "markdown",
   "id": "faa05335-ff76-4410-a4f6-404782471ab4",
   "metadata": {},
   "source": [
    "### Preprocessing For Image Training\n"
   ]
  },
  {
   "cell_type": "code",
   "execution_count": 2,
   "id": "fac18ddb-edcd-472f-93d4-e39b7cf861f1",
   "metadata": {},
   "outputs": [
    {
     "name": "stdout",
     "output_type": "stream",
     "text": [
      "Found 70295 files belonging to 38 classes.\n"
     ]
    }
   ],
   "source": [
    "training_set = tf.keras.utils.image_dataset_from_directory(\n",
    "    'train',\n",
    "    labels=\"inferred\",\n",
    "    label_mode=\"categorical\",\n",
    "    class_names=None,\n",
    "    color_mode=\"rgb\",\n",
    "    batch_size=32,\n",
    "    image_size=(128, 128),\n",
    "    shuffle=True,\n",
    "    seed=None,\n",
    "    validation_split=None,\n",
    "    subset=None,\n",
    "    interpolation=\"bilinear\",\n",
    "    follow_links=False,\n",
    "    crop_to_aspect_ratio=False,\n",
    "    pad_to_aspect_ratio=False,\n",
    "    data_format=None,\n",
    "    verbose=True,\n",
    ")"
   ]
  },
  {
   "cell_type": "markdown",
   "id": "180ba9c5-f8d1-4e62-afbb-3f01a4779aaa",
   "metadata": {},
   "source": [
    "## Preprocessing For Image Validation"
   ]
  },
  {
   "cell_type": "code",
   "execution_count": 3,
   "id": "e70e2f1a-a4a8-4754-823a-8486067a7aef",
   "metadata": {},
   "outputs": [
    {
     "name": "stdout",
     "output_type": "stream",
     "text": [
      "Found 17572 files belonging to 38 classes.\n"
     ]
    }
   ],
   "source": [
    "validation_set = tf.keras.utils.image_dataset_from_directory(\n",
    "    'valid',\n",
    "    labels=\"inferred\",\n",
    "    label_mode=\"categorical\",\n",
    "    class_names=None,\n",
    "    color_mode=\"rgb\",\n",
    "    batch_size=32,\n",
    "    image_size=(128, 128),\n",
    "    shuffle=True,\n",
    "    seed=None,\n",
    "    validation_split=None,\n",
    "    subset=None,\n",
    "    interpolation=\"bilinear\",\n",
    "    follow_links=False,\n",
    "    crop_to_aspect_ratio=False,\n",
    "    pad_to_aspect_ratio=False,\n",
    "    data_format=None,\n",
    "    verbose=True,\n",
    ")"
   ]
  },
  {
   "cell_type": "code",
   "execution_count": 4,
   "id": "dad3d693-27b8-476f-9b0a-082d0bb06133",
   "metadata": {},
   "outputs": [
    {
     "data": {
      "text/plain": [
       "<_PrefetchDataset element_spec=(TensorSpec(shape=(None, 128, 128, 3), dtype=tf.float32, name=None), TensorSpec(shape=(None, 38), dtype=tf.float32, name=None))>"
      ]
     },
     "execution_count": 4,
     "metadata": {},
     "output_type": "execute_result"
    }
   ],
   "source": [
    "training_set"
   ]
  },
  {
   "cell_type": "code",
   "execution_count": 5,
   "id": "da6d02a6-12bc-4956-a28e-00bc2ab13cc5",
   "metadata": {},
   "outputs": [
    {
     "name": "stdout",
     "output_type": "stream",
     "text": [
      "tf.Tensor(\n",
      "[[[[141.5  129.5  139.5 ]\n",
      "   [131.75 119.75 129.75]\n",
      "   [142.75 130.75 140.75]\n",
      "   ...\n",
      "   [131.75 119.75 131.75]\n",
      "   [123.75 111.75 123.75]\n",
      "   [151.   139.   151.  ]]\n",
      "\n",
      "  [[147.   135.   145.  ]\n",
      "   [138.25 126.25 136.25]\n",
      "   [140.5  128.5  138.5 ]\n",
      "   ...\n",
      "   [137.   125.   137.  ]\n",
      "   [127.5  115.5  127.5 ]\n",
      "   [146.75 134.75 146.75]]\n",
      "\n",
      "  [[145.5  133.5  143.5 ]\n",
      "   [128.75 116.75 126.75]\n",
      "   [136.75 124.75 134.75]\n",
      "   ...\n",
      "   [145.5  133.5  145.5 ]\n",
      "   [141.   129.   141.  ]\n",
      "   [140.75 128.75 140.75]]\n",
      "\n",
      "  ...\n",
      "\n",
      "  [[189.   186.   195.  ]\n",
      "   [188.5  185.5  194.5 ]\n",
      "   [199.   196.   205.  ]\n",
      "   ...\n",
      "   [189.25 186.25 197.25]\n",
      "   [199.25 196.25 207.25]\n",
      "   [194.75 191.75 202.75]]\n",
      "\n",
      "  [[194.   191.   200.  ]\n",
      "   [183.5  180.5  189.5 ]\n",
      "   [189.   186.   195.  ]\n",
      "   ...\n",
      "   [198.75 195.75 206.75]\n",
      "   [198.   195.   206.  ]\n",
      "   [200.5  197.5  208.5 ]]\n",
      "\n",
      "  [[189.25 186.25 195.25]\n",
      "   [194.   191.   200.  ]\n",
      "   [193.5  190.5  199.5 ]\n",
      "   ...\n",
      "   [200.25 197.25 208.25]\n",
      "   [204.75 201.75 212.75]\n",
      "   [203.25 200.25 211.25]]]\n",
      "\n",
      "\n",
      " [[[197.   193.   207.  ]\n",
      "   [195.25 191.25 205.25]\n",
      "   [197.   193.   207.  ]\n",
      "   ...\n",
      "   [190.   186.   200.  ]\n",
      "   [185.75 181.75 195.75]\n",
      "   [190.5  186.5  200.5 ]]\n",
      "\n",
      "  [[198.5  194.5  208.5 ]\n",
      "   [196.75 192.75 206.75]\n",
      "   [196.5  192.5  206.5 ]\n",
      "   ...\n",
      "   [188.25 184.25 198.25]\n",
      "   [191.   187.   201.  ]\n",
      "   [188.75 184.75 198.75]]\n",
      "\n",
      "  [[197.75 193.75 207.75]\n",
      "   [197.5  193.5  207.5 ]\n",
      "   [197.5  193.5  207.5 ]\n",
      "   ...\n",
      "   [182.   178.   192.  ]\n",
      "   [182.75 178.75 192.75]\n",
      "   [187.   183.   197.  ]]\n",
      "\n",
      "  ...\n",
      "\n",
      "  [[158.   154.   169.  ]\n",
      "   [147.25 143.25 158.25]\n",
      "   [151.25 147.25 162.25]\n",
      "   ...\n",
      "   [141.25 135.25 147.25]\n",
      "   [142.75 136.75 148.75]\n",
      "   [140.5  134.5  146.5 ]]\n",
      "\n",
      "  [[142.75 138.75 153.75]\n",
      "   [148.5  144.5  159.5 ]\n",
      "   [146.5  142.5  157.5 ]\n",
      "   ...\n",
      "   [140.5  134.5  146.5 ]\n",
      "   [138.   132.   144.  ]\n",
      "   [149.5  143.5  155.5 ]]\n",
      "\n",
      "  [[154.75 150.75 165.75]\n",
      "   [154.   150.   165.  ]\n",
      "   [156.5  152.5  167.5 ]\n",
      "   ...\n",
      "   [141.5  135.5  147.5 ]\n",
      "   [145.75 139.75 151.75]\n",
      "   [143.25 137.25 149.25]]]\n",
      "\n",
      "\n",
      " [[[170.25 164.25 166.25]\n",
      "   [171.25 165.25 167.25]\n",
      "   [172.75 166.75 168.75]\n",
      "   ...\n",
      "   [145.75 131.75 130.75]\n",
      "   [143.25 129.25 128.25]\n",
      "   [155.25 141.25 140.25]]\n",
      "\n",
      "  [[176.   170.   172.  ]\n",
      "   [161.75 155.75 157.75]\n",
      "   [185.   179.   181.  ]\n",
      "   ...\n",
      "   [148.5  134.5  133.5 ]\n",
      "   [151.5  137.5  136.5 ]\n",
      "   [148.   134.   133.  ]]\n",
      "\n",
      "  [[187.25 181.25 183.25]\n",
      "   [189.75 183.75 185.75]\n",
      "   [168.5  162.5  164.5 ]\n",
      "   ...\n",
      "   [163.75 149.75 148.75]\n",
      "   [160.25 146.25 145.25]\n",
      "   [137.75 123.75 122.75]]\n",
      "\n",
      "  ...\n",
      "\n",
      "  [[190.   186.   187.  ]\n",
      "   [199.5  195.5  196.5 ]\n",
      "   [199.25 195.25 196.25]\n",
      "   ...\n",
      "   [142.25 130.25 130.25]\n",
      "   [128.   116.   116.  ]\n",
      "   [147.75 135.75 135.75]]\n",
      "\n",
      "  [[191.75 187.75 188.75]\n",
      "   [197.25 193.25 194.25]\n",
      "   [195.25 191.25 192.25]\n",
      "   ...\n",
      "   [126.5  114.5  114.5 ]\n",
      "   [146.25 134.25 134.25]\n",
      "   [150.5  138.5  138.5 ]]\n",
      "\n",
      "  [[187.   183.   184.  ]\n",
      "   [192.75 188.75 189.75]\n",
      "   [187.   183.   184.  ]\n",
      "   ...\n",
      "   [148.75 136.75 136.75]\n",
      "   [137.25 125.25 125.25]\n",
      "   [148.   136.   136.  ]]]\n",
      "\n",
      "\n",
      " ...\n",
      "\n",
      "\n",
      " [[[212.   203.   208.  ]\n",
      "   [202.75 193.75 198.75]\n",
      "   [241.75 234.   238.75]\n",
      "   ...\n",
      "   [212.75 205.75 213.75]\n",
      "   [222.5  215.5  223.5 ]\n",
      "   [217.75 210.75 218.75]]\n",
      "\n",
      "  [[214.25 205.25 210.25]\n",
      "   [224.25 215.25 220.25]\n",
      "   [195.5  186.5  191.5 ]\n",
      "   ...\n",
      "   [215.5  208.5  216.5 ]\n",
      "   [215.75 208.75 216.75]\n",
      "   [208.25 201.25 209.25]]\n",
      "\n",
      "  [[206.   197.   202.  ]\n",
      "   [191.   182.   187.  ]\n",
      "   [214.75 205.75 210.75]\n",
      "   ...\n",
      "   [209.5  202.5  210.5 ]\n",
      "   [199.25 192.25 200.25]\n",
      "   [201.75 194.75 202.75]]\n",
      "\n",
      "  ...\n",
      "\n",
      "  [[ 34.5   39.5   69.5 ]\n",
      "   [ 36.75  41.75  71.75]\n",
      "   [ 35.75  40.75  70.75]\n",
      "   ...\n",
      "   [185.5  177.5  192.5 ]\n",
      "   [183.25 175.25 190.25]\n",
      "   [174.75 166.75 181.75]]\n",
      "\n",
      "  [[ 32.75  37.75  69.75]\n",
      "   [ 33.    38.    70.  ]\n",
      "   [ 32.25  37.25  69.25]\n",
      "   ...\n",
      "   [180.5  172.5  187.5 ]\n",
      "   [182.5  174.5  189.5 ]\n",
      "   [178.   170.   185.  ]]\n",
      "\n",
      "  [[ 36.    41.    73.  ]\n",
      "   [ 31.5   36.5   68.5 ]\n",
      "   [ 30.75  35.75  67.75]\n",
      "   ...\n",
      "   [191.25 183.25 198.25]\n",
      "   [180.   172.   187.  ]\n",
      "   [176.75 168.75 183.75]]]\n",
      "\n",
      "\n",
      " [[[159.25 155.25 156.25]\n",
      "   [158.75 154.75 155.75]\n",
      "   [150.75 146.75 147.75]\n",
      "   ...\n",
      "   [130.   121.   126.  ]\n",
      "   [124.5  115.5  120.5 ]\n",
      "   [128.75 119.75 124.75]]\n",
      "\n",
      "  [[154.5  150.5  151.5 ]\n",
      "   [148.25 144.25 145.25]\n",
      "   [150.   146.   147.  ]\n",
      "   ...\n",
      "   [132.5  123.5  128.5 ]\n",
      "   [129.5  120.5  125.5 ]\n",
      "   [135.   126.   131.  ]]\n",
      "\n",
      "  [[161.   157.   158.  ]\n",
      "   [160.25 156.25 157.25]\n",
      "   [150.   146.   147.  ]\n",
      "   ...\n",
      "   [130.5  121.5  126.5 ]\n",
      "   [120.75 111.75 116.75]\n",
      "   [131.   122.   127.  ]]\n",
      "\n",
      "  ...\n",
      "\n",
      "  [[150.75 148.75 149.75]\n",
      "   [151.75 149.75 150.75]\n",
      "   [150.25 148.25 149.25]\n",
      "   ...\n",
      "   [129.5  124.5  121.5 ]\n",
      "   [113.   108.   105.  ]\n",
      "   [119.   114.   111.  ]]\n",
      "\n",
      "  [[150.75 148.75 149.75]\n",
      "   [156.75 154.75 155.75]\n",
      "   [154.5  152.5  153.5 ]\n",
      "   ...\n",
      "   [116.25 111.25 108.25]\n",
      "   [118.5  113.5  110.5 ]\n",
      "   [126.5  121.5  118.5 ]]\n",
      "\n",
      "  [[155.25 153.25 154.25]\n",
      "   [152.   150.   151.  ]\n",
      "   [153.25 151.25 152.25]\n",
      "   ...\n",
      "   [115.   110.   107.  ]\n",
      "   [117.25 112.25 109.25]\n",
      "   [117.   112.   109.  ]]]\n",
      "\n",
      "\n",
      " [[[172.   167.   173.  ]\n",
      "   [162.75 157.75 163.75]\n",
      "   [162.75 157.75 163.75]\n",
      "   ...\n",
      "   [176.75 171.75 177.75]\n",
      "   [174.25 169.25 175.25]\n",
      "   [169.5  164.5  170.5 ]]\n",
      "\n",
      "  [[170.25 165.25 171.25]\n",
      "   [167.   162.   168.  ]\n",
      "   [177.   172.   178.  ]\n",
      "   ...\n",
      "   [173.75 168.75 174.75]\n",
      "   [175.75 170.75 176.75]\n",
      "   [169.75 164.75 170.75]]\n",
      "\n",
      "  [[169.   164.   170.  ]\n",
      "   [175.25 170.25 176.25]\n",
      "   [172.5  167.5  173.5 ]\n",
      "   ...\n",
      "   [175.75 170.75 176.75]\n",
      "   [171.75 166.75 172.75]\n",
      "   [167.5  162.5  168.5 ]]\n",
      "\n",
      "  ...\n",
      "\n",
      "  [[127.25 121.25 123.25]\n",
      "   [137.   131.   133.  ]\n",
      "   [125.   119.   123.  ]\n",
      "   ...\n",
      "   [126.25 117.25 120.25]\n",
      "   [128.5  119.5  122.5 ]\n",
      "   [126.   117.   120.  ]]\n",
      "\n",
      "  [[134.25 128.25 128.25]\n",
      "   [135.5  129.5  131.5 ]\n",
      "   [142.5  136.5  140.5 ]\n",
      "   ...\n",
      "   [128.   119.   122.  ]\n",
      "   [127.5  118.5  121.5 ]\n",
      "   [122.   113.   116.  ]]\n",
      "\n",
      "  [[127.75 122.75 119.75]\n",
      "   [136.   130.   131.  ]\n",
      "   [127.75 121.25 126.75]\n",
      "   ...\n",
      "   [127.75 118.75 121.75]\n",
      "   [125.5  116.5  119.5 ]\n",
      "   [122.75 113.75 116.75]]]], shape=(32, 128, 128, 3), dtype=float32) (32, 128, 128, 3)\n",
      "tf.Tensor(\n",
      "[[0. 0. 0. ... 0. 0. 0.]\n",
      " [0. 0. 0. ... 0. 0. 0.]\n",
      " [0. 0. 0. ... 0. 0. 0.]\n",
      " ...\n",
      " [0. 0. 0. ... 0. 0. 0.]\n",
      " [0. 0. 0. ... 0. 0. 0.]\n",
      " [0. 0. 0. ... 0. 0. 0.]], shape=(32, 38), dtype=float32) (32, 38)\n"
     ]
    }
   ],
   "source": [
    "for x,y in training_set:\n",
    "    print(x,x.shape)\n",
    "    print(y,y.shape)\n",
    "    break"
   ]
  },
  {
   "cell_type": "markdown",
   "id": "21726eb8-2276-4881-858c-0de180e0320f",
   "metadata": {},
   "source": [
    "## Model Building"
   ]
  },
  {
   "cell_type": "code",
   "execution_count": 6,
   "id": "d516c3ad-0cae-4941-9eda-141c17fa2fdd",
   "metadata": {},
   "outputs": [],
   "source": [
    "from tensorflow.keras.layers import Input,Dense,Conv2D,MaxPool2D,Flatten,Dropout\n",
    "from tensorflow.keras.models import Sequential"
   ]
  },
  {
   "cell_type": "code",
   "execution_count": 7,
   "id": "9e15daef-4d75-4fe6-8f60-4bc15463374a",
   "metadata": {},
   "outputs": [],
   "source": [
    "model= tf.keras.models.Sequential()"
   ]
  },
  {
   "cell_type": "code",
   "execution_count": 8,
   "id": "c6425ce3-4091-485b-be0b-90fcb1cd3aaa",
   "metadata": {},
   "outputs": [],
   "source": [
    "# Define the input layer separately\n",
    "model.add(Input(shape=(128, 128, 3)))"
   ]
  },
  {
   "cell_type": "markdown",
   "id": "c2f21efc-8630-48d2-a919-d3a973ac73e4",
   "metadata": {},
   "source": [
    "## Building Of Convolutional Layers"
   ]
  },
  {
   "cell_type": "code",
   "execution_count": 9,
   "id": "12a0cae8-4c1a-44de-b073-cac278ade925",
   "metadata": {},
   "outputs": [],
   "source": [
    "model.add(tf.keras.layers.Conv2D(filters=32,kernel_size=3,padding='same',activation='relu'))\n",
    "model.add(tf.keras.layers.Conv2D(filters=32,kernel_size=3,activation='relu'))\n",
    "model.add(tf.keras.layers.MaxPool2D(pool_size=2,strides=2))"
   ]
  },
  {
   "cell_type": "code",
   "execution_count": 10,
   "id": "6d42e190-1ace-496c-a383-c5e097244bce",
   "metadata": {},
   "outputs": [],
   "source": [
    "model.add(tf.keras.layers.Conv2D(filters=64,kernel_size=3,padding='same',activation='relu'))\n",
    "model.add(tf.keras.layers.Conv2D(filters=64,kernel_size=3,activation='relu'))\n",
    "model.add(tf.keras.layers.MaxPool2D(pool_size=2,strides=2))"
   ]
  },
  {
   "cell_type": "code",
   "execution_count": 11,
   "id": "7c057681-c653-466e-b259-af0988b5fc56",
   "metadata": {},
   "outputs": [],
   "source": [
    "model.add(tf.keras.layers.Conv2D(filters=128,kernel_size=3,padding='same',activation='relu'))\n",
    "model.add(tf.keras.layers.Conv2D(filters=128,kernel_size=3,activation='relu'))\n",
    "model.add(tf.keras.layers.MaxPool2D(pool_size=2,strides=2))"
   ]
  },
  {
   "cell_type": "code",
   "execution_count": 12,
   "id": "9a2595ba-325c-4196-8637-a48c6c2a2d46",
   "metadata": {},
   "outputs": [],
   "source": [
    "model.add(tf.keras.layers.Conv2D(filters=256,kernel_size=3,padding='same',activation='relu'))\n",
    "model.add(tf.keras.layers.Conv2D(filters=256,kernel_size=3,activation='relu'))\n",
    "model.add(tf.keras.layers.MaxPool2D(pool_size=2,strides=2))"
   ]
  },
  {
   "cell_type": "code",
   "execution_count": 13,
   "id": "6cdb0fd4-9051-4168-a601-0abc7f27afcf",
   "metadata": {},
   "outputs": [],
   "source": [
    "model.add(Conv2D(filters=512, kernel_size=3, padding='same', activation='relu'))\n",
    "model.add(Conv2D(filters=512, kernel_size=3, activation='relu'))\n",
    "model.add(MaxPool2D(pool_size=2, strides=2))"
   ]
  },
  {
   "cell_type": "code",
   "execution_count": 14,
   "id": "0d1dcc0b-02a6-409c-bf23-e71812639e12",
   "metadata": {},
   "outputs": [],
   "source": [
    "# Add Flatten layer here to make the output 1-dimensional\n",
    "model.add(Flatten())"
   ]
  },
  {
   "cell_type": "code",
   "execution_count": 15,
   "id": "0912ef18-c274-4559-b5a6-0ebfd9e90c52",
   "metadata": {},
   "outputs": [],
   "source": [
    "model.add(tf.keras.layers.Dropout(0.25)) # To avoid overfitting"
   ]
  },
  {
   "cell_type": "code",
   "execution_count": 16,
   "id": "2a5b4757-4c05-4ba5-8af7-c19164c86bf4",
   "metadata": {},
   "outputs": [],
   "source": [
    "model.add(tf.keras.layers.Dense(units=1500,activation='relu'))"
   ]
  },
  {
   "cell_type": "code",
   "execution_count": 17,
   "id": "bb4fdecc-d44a-46c3-8f12-133b22e35928",
   "metadata": {},
   "outputs": [],
   "source": [
    "model.add(tf.keras.layers.Dropout(0.4))"
   ]
  },
  {
   "cell_type": "code",
   "execution_count": 18,
   "id": "c3a528f7-3328-425c-8efa-72a0df8c55d8",
   "metadata": {},
   "outputs": [],
   "source": [
    "## Output Layer\n",
    "model.add(tf.keras.layers.Dense(units=38,activation='softmax'))"
   ]
  },
  {
   "cell_type": "markdown",
   "id": "a25385c6-780c-4a54-b7d4-ae8c12ba1de6",
   "metadata": {},
   "source": [
    "## Model Compiling"
   ]
  },
  {
   "cell_type": "code",
   "execution_count": 19,
   "id": "fa2147be-0edc-4b9a-a36c-0bbe9604ba28",
   "metadata": {},
   "outputs": [],
   "source": [
    "model.compile(optimizer=tf.keras.optimizers.Adam(\n",
    "    learning_rate=0.0001),loss='categorical_crossentropy',metrics=['accuracy'])"
   ]
  },
  {
   "cell_type": "code",
   "execution_count": 20,
   "id": "b2d39bcb-3570-4592-99aa-3cbdd698120b",
   "metadata": {},
   "outputs": [
    {
     "data": {
      "text/html": [
       "<pre style=\"white-space:pre;overflow-x:auto;line-height:normal;font-family:Menlo,'DejaVu Sans Mono',consolas,'Courier New',monospace\"><span style=\"font-weight: bold\">Model: \"sequential\"</span>\n",
       "</pre>\n"
      ],
      "text/plain": [
       "\u001b[1mModel: \"sequential\"\u001b[0m\n"
      ]
     },
     "metadata": {},
     "output_type": "display_data"
    },
    {
     "data": {
      "text/html": [
       "<pre style=\"white-space:pre;overflow-x:auto;line-height:normal;font-family:Menlo,'DejaVu Sans Mono',consolas,'Courier New',monospace\">┏━━━━━━━━━━━━━━━━━━━━━━━━━━━━━━━━━┳━━━━━━━━━━━━━━━━━━━━━━━━┳━━━━━━━━━━━━━━━┓\n",
       "┃<span style=\"font-weight: bold\"> Layer (type)                    </span>┃<span style=\"font-weight: bold\"> Output Shape           </span>┃<span style=\"font-weight: bold\">       Param # </span>┃\n",
       "┡━━━━━━━━━━━━━━━━━━━━━━━━━━━━━━━━━╇━━━━━━━━━━━━━━━━━━━━━━━━╇━━━━━━━━━━━━━━━┩\n",
       "│ conv2d (<span style=\"color: #0087ff; text-decoration-color: #0087ff\">Conv2D</span>)                 │ (<span style=\"color: #00d7ff; text-decoration-color: #00d7ff\">None</span>, <span style=\"color: #00af00; text-decoration-color: #00af00\">128</span>, <span style=\"color: #00af00; text-decoration-color: #00af00\">128</span>, <span style=\"color: #00af00; text-decoration-color: #00af00\">32</span>)   │           <span style=\"color: #00af00; text-decoration-color: #00af00\">896</span> │\n",
       "├─────────────────────────────────┼────────────────────────┼───────────────┤\n",
       "│ conv2d_1 (<span style=\"color: #0087ff; text-decoration-color: #0087ff\">Conv2D</span>)               │ (<span style=\"color: #00d7ff; text-decoration-color: #00d7ff\">None</span>, <span style=\"color: #00af00; text-decoration-color: #00af00\">126</span>, <span style=\"color: #00af00; text-decoration-color: #00af00\">126</span>, <span style=\"color: #00af00; text-decoration-color: #00af00\">32</span>)   │         <span style=\"color: #00af00; text-decoration-color: #00af00\">9,248</span> │\n",
       "├─────────────────────────────────┼────────────────────────┼───────────────┤\n",
       "│ max_pooling2d (<span style=\"color: #0087ff; text-decoration-color: #0087ff\">MaxPooling2D</span>)    │ (<span style=\"color: #00d7ff; text-decoration-color: #00d7ff\">None</span>, <span style=\"color: #00af00; text-decoration-color: #00af00\">63</span>, <span style=\"color: #00af00; text-decoration-color: #00af00\">63</span>, <span style=\"color: #00af00; text-decoration-color: #00af00\">32</span>)     │             <span style=\"color: #00af00; text-decoration-color: #00af00\">0</span> │\n",
       "├─────────────────────────────────┼────────────────────────┼───────────────┤\n",
       "│ conv2d_2 (<span style=\"color: #0087ff; text-decoration-color: #0087ff\">Conv2D</span>)               │ (<span style=\"color: #00d7ff; text-decoration-color: #00d7ff\">None</span>, <span style=\"color: #00af00; text-decoration-color: #00af00\">63</span>, <span style=\"color: #00af00; text-decoration-color: #00af00\">63</span>, <span style=\"color: #00af00; text-decoration-color: #00af00\">64</span>)     │        <span style=\"color: #00af00; text-decoration-color: #00af00\">18,496</span> │\n",
       "├─────────────────────────────────┼────────────────────────┼───────────────┤\n",
       "│ conv2d_3 (<span style=\"color: #0087ff; text-decoration-color: #0087ff\">Conv2D</span>)               │ (<span style=\"color: #00d7ff; text-decoration-color: #00d7ff\">None</span>, <span style=\"color: #00af00; text-decoration-color: #00af00\">61</span>, <span style=\"color: #00af00; text-decoration-color: #00af00\">61</span>, <span style=\"color: #00af00; text-decoration-color: #00af00\">64</span>)     │        <span style=\"color: #00af00; text-decoration-color: #00af00\">36,928</span> │\n",
       "├─────────────────────────────────┼────────────────────────┼───────────────┤\n",
       "│ max_pooling2d_1 (<span style=\"color: #0087ff; text-decoration-color: #0087ff\">MaxPooling2D</span>)  │ (<span style=\"color: #00d7ff; text-decoration-color: #00d7ff\">None</span>, <span style=\"color: #00af00; text-decoration-color: #00af00\">30</span>, <span style=\"color: #00af00; text-decoration-color: #00af00\">30</span>, <span style=\"color: #00af00; text-decoration-color: #00af00\">64</span>)     │             <span style=\"color: #00af00; text-decoration-color: #00af00\">0</span> │\n",
       "├─────────────────────────────────┼────────────────────────┼───────────────┤\n",
       "│ conv2d_4 (<span style=\"color: #0087ff; text-decoration-color: #0087ff\">Conv2D</span>)               │ (<span style=\"color: #00d7ff; text-decoration-color: #00d7ff\">None</span>, <span style=\"color: #00af00; text-decoration-color: #00af00\">30</span>, <span style=\"color: #00af00; text-decoration-color: #00af00\">30</span>, <span style=\"color: #00af00; text-decoration-color: #00af00\">128</span>)    │        <span style=\"color: #00af00; text-decoration-color: #00af00\">73,856</span> │\n",
       "├─────────────────────────────────┼────────────────────────┼───────────────┤\n",
       "│ conv2d_5 (<span style=\"color: #0087ff; text-decoration-color: #0087ff\">Conv2D</span>)               │ (<span style=\"color: #00d7ff; text-decoration-color: #00d7ff\">None</span>, <span style=\"color: #00af00; text-decoration-color: #00af00\">28</span>, <span style=\"color: #00af00; text-decoration-color: #00af00\">28</span>, <span style=\"color: #00af00; text-decoration-color: #00af00\">128</span>)    │       <span style=\"color: #00af00; text-decoration-color: #00af00\">147,584</span> │\n",
       "├─────────────────────────────────┼────────────────────────┼───────────────┤\n",
       "│ max_pooling2d_2 (<span style=\"color: #0087ff; text-decoration-color: #0087ff\">MaxPooling2D</span>)  │ (<span style=\"color: #00d7ff; text-decoration-color: #00d7ff\">None</span>, <span style=\"color: #00af00; text-decoration-color: #00af00\">14</span>, <span style=\"color: #00af00; text-decoration-color: #00af00\">14</span>, <span style=\"color: #00af00; text-decoration-color: #00af00\">128</span>)    │             <span style=\"color: #00af00; text-decoration-color: #00af00\">0</span> │\n",
       "├─────────────────────────────────┼────────────────────────┼───────────────┤\n",
       "│ conv2d_6 (<span style=\"color: #0087ff; text-decoration-color: #0087ff\">Conv2D</span>)               │ (<span style=\"color: #00d7ff; text-decoration-color: #00d7ff\">None</span>, <span style=\"color: #00af00; text-decoration-color: #00af00\">14</span>, <span style=\"color: #00af00; text-decoration-color: #00af00\">14</span>, <span style=\"color: #00af00; text-decoration-color: #00af00\">256</span>)    │       <span style=\"color: #00af00; text-decoration-color: #00af00\">295,168</span> │\n",
       "├─────────────────────────────────┼────────────────────────┼───────────────┤\n",
       "│ conv2d_7 (<span style=\"color: #0087ff; text-decoration-color: #0087ff\">Conv2D</span>)               │ (<span style=\"color: #00d7ff; text-decoration-color: #00d7ff\">None</span>, <span style=\"color: #00af00; text-decoration-color: #00af00\">12</span>, <span style=\"color: #00af00; text-decoration-color: #00af00\">12</span>, <span style=\"color: #00af00; text-decoration-color: #00af00\">256</span>)    │       <span style=\"color: #00af00; text-decoration-color: #00af00\">590,080</span> │\n",
       "├─────────────────────────────────┼────────────────────────┼───────────────┤\n",
       "│ max_pooling2d_3 (<span style=\"color: #0087ff; text-decoration-color: #0087ff\">MaxPooling2D</span>)  │ (<span style=\"color: #00d7ff; text-decoration-color: #00d7ff\">None</span>, <span style=\"color: #00af00; text-decoration-color: #00af00\">6</span>, <span style=\"color: #00af00; text-decoration-color: #00af00\">6</span>, <span style=\"color: #00af00; text-decoration-color: #00af00\">256</span>)      │             <span style=\"color: #00af00; text-decoration-color: #00af00\">0</span> │\n",
       "├─────────────────────────────────┼────────────────────────┼───────────────┤\n",
       "│ conv2d_8 (<span style=\"color: #0087ff; text-decoration-color: #0087ff\">Conv2D</span>)               │ (<span style=\"color: #00d7ff; text-decoration-color: #00d7ff\">None</span>, <span style=\"color: #00af00; text-decoration-color: #00af00\">6</span>, <span style=\"color: #00af00; text-decoration-color: #00af00\">6</span>, <span style=\"color: #00af00; text-decoration-color: #00af00\">512</span>)      │     <span style=\"color: #00af00; text-decoration-color: #00af00\">1,180,160</span> │\n",
       "├─────────────────────────────────┼────────────────────────┼───────────────┤\n",
       "│ conv2d_9 (<span style=\"color: #0087ff; text-decoration-color: #0087ff\">Conv2D</span>)               │ (<span style=\"color: #00d7ff; text-decoration-color: #00d7ff\">None</span>, <span style=\"color: #00af00; text-decoration-color: #00af00\">4</span>, <span style=\"color: #00af00; text-decoration-color: #00af00\">4</span>, <span style=\"color: #00af00; text-decoration-color: #00af00\">512</span>)      │     <span style=\"color: #00af00; text-decoration-color: #00af00\">2,359,808</span> │\n",
       "├─────────────────────────────────┼────────────────────────┼───────────────┤\n",
       "│ max_pooling2d_4 (<span style=\"color: #0087ff; text-decoration-color: #0087ff\">MaxPooling2D</span>)  │ (<span style=\"color: #00d7ff; text-decoration-color: #00d7ff\">None</span>, <span style=\"color: #00af00; text-decoration-color: #00af00\">2</span>, <span style=\"color: #00af00; text-decoration-color: #00af00\">2</span>, <span style=\"color: #00af00; text-decoration-color: #00af00\">512</span>)      │             <span style=\"color: #00af00; text-decoration-color: #00af00\">0</span> │\n",
       "├─────────────────────────────────┼────────────────────────┼───────────────┤\n",
       "│ flatten (<span style=\"color: #0087ff; text-decoration-color: #0087ff\">Flatten</span>)               │ (<span style=\"color: #00d7ff; text-decoration-color: #00d7ff\">None</span>, <span style=\"color: #00af00; text-decoration-color: #00af00\">2048</span>)           │             <span style=\"color: #00af00; text-decoration-color: #00af00\">0</span> │\n",
       "├─────────────────────────────────┼────────────────────────┼───────────────┤\n",
       "│ dropout (<span style=\"color: #0087ff; text-decoration-color: #0087ff\">Dropout</span>)               │ (<span style=\"color: #00d7ff; text-decoration-color: #00d7ff\">None</span>, <span style=\"color: #00af00; text-decoration-color: #00af00\">2048</span>)           │             <span style=\"color: #00af00; text-decoration-color: #00af00\">0</span> │\n",
       "├─────────────────────────────────┼────────────────────────┼───────────────┤\n",
       "│ dense (<span style=\"color: #0087ff; text-decoration-color: #0087ff\">Dense</span>)                   │ (<span style=\"color: #00d7ff; text-decoration-color: #00d7ff\">None</span>, <span style=\"color: #00af00; text-decoration-color: #00af00\">1500</span>)           │     <span style=\"color: #00af00; text-decoration-color: #00af00\">3,073,500</span> │\n",
       "├─────────────────────────────────┼────────────────────────┼───────────────┤\n",
       "│ dropout_1 (<span style=\"color: #0087ff; text-decoration-color: #0087ff\">Dropout</span>)             │ (<span style=\"color: #00d7ff; text-decoration-color: #00d7ff\">None</span>, <span style=\"color: #00af00; text-decoration-color: #00af00\">1500</span>)           │             <span style=\"color: #00af00; text-decoration-color: #00af00\">0</span> │\n",
       "├─────────────────────────────────┼────────────────────────┼───────────────┤\n",
       "│ dense_1 (<span style=\"color: #0087ff; text-decoration-color: #0087ff\">Dense</span>)                 │ (<span style=\"color: #00d7ff; text-decoration-color: #00d7ff\">None</span>, <span style=\"color: #00af00; text-decoration-color: #00af00\">38</span>)             │        <span style=\"color: #00af00; text-decoration-color: #00af00\">57,038</span> │\n",
       "└─────────────────────────────────┴────────────────────────┴───────────────┘\n",
       "</pre>\n"
      ],
      "text/plain": [
       "┏━━━━━━━━━━━━━━━━━━━━━━━━━━━━━━━━━┳━━━━━━━━━━━━━━━━━━━━━━━━┳━━━━━━━━━━━━━━━┓\n",
       "┃\u001b[1m \u001b[0m\u001b[1mLayer (type)                   \u001b[0m\u001b[1m \u001b[0m┃\u001b[1m \u001b[0m\u001b[1mOutput Shape          \u001b[0m\u001b[1m \u001b[0m┃\u001b[1m \u001b[0m\u001b[1m      Param #\u001b[0m\u001b[1m \u001b[0m┃\n",
       "┡━━━━━━━━━━━━━━━━━━━━━━━━━━━━━━━━━╇━━━━━━━━━━━━━━━━━━━━━━━━╇━━━━━━━━━━━━━━━┩\n",
       "│ conv2d (\u001b[38;5;33mConv2D\u001b[0m)                 │ (\u001b[38;5;45mNone\u001b[0m, \u001b[38;5;34m128\u001b[0m, \u001b[38;5;34m128\u001b[0m, \u001b[38;5;34m32\u001b[0m)   │           \u001b[38;5;34m896\u001b[0m │\n",
       "├─────────────────────────────────┼────────────────────────┼───────────────┤\n",
       "│ conv2d_1 (\u001b[38;5;33mConv2D\u001b[0m)               │ (\u001b[38;5;45mNone\u001b[0m, \u001b[38;5;34m126\u001b[0m, \u001b[38;5;34m126\u001b[0m, \u001b[38;5;34m32\u001b[0m)   │         \u001b[38;5;34m9,248\u001b[0m │\n",
       "├─────────────────────────────────┼────────────────────────┼───────────────┤\n",
       "│ max_pooling2d (\u001b[38;5;33mMaxPooling2D\u001b[0m)    │ (\u001b[38;5;45mNone\u001b[0m, \u001b[38;5;34m63\u001b[0m, \u001b[38;5;34m63\u001b[0m, \u001b[38;5;34m32\u001b[0m)     │             \u001b[38;5;34m0\u001b[0m │\n",
       "├─────────────────────────────────┼────────────────────────┼───────────────┤\n",
       "│ conv2d_2 (\u001b[38;5;33mConv2D\u001b[0m)               │ (\u001b[38;5;45mNone\u001b[0m, \u001b[38;5;34m63\u001b[0m, \u001b[38;5;34m63\u001b[0m, \u001b[38;5;34m64\u001b[0m)     │        \u001b[38;5;34m18,496\u001b[0m │\n",
       "├─────────────────────────────────┼────────────────────────┼───────────────┤\n",
       "│ conv2d_3 (\u001b[38;5;33mConv2D\u001b[0m)               │ (\u001b[38;5;45mNone\u001b[0m, \u001b[38;5;34m61\u001b[0m, \u001b[38;5;34m61\u001b[0m, \u001b[38;5;34m64\u001b[0m)     │        \u001b[38;5;34m36,928\u001b[0m │\n",
       "├─────────────────────────────────┼────────────────────────┼───────────────┤\n",
       "│ max_pooling2d_1 (\u001b[38;5;33mMaxPooling2D\u001b[0m)  │ (\u001b[38;5;45mNone\u001b[0m, \u001b[38;5;34m30\u001b[0m, \u001b[38;5;34m30\u001b[0m, \u001b[38;5;34m64\u001b[0m)     │             \u001b[38;5;34m0\u001b[0m │\n",
       "├─────────────────────────────────┼────────────────────────┼───────────────┤\n",
       "│ conv2d_4 (\u001b[38;5;33mConv2D\u001b[0m)               │ (\u001b[38;5;45mNone\u001b[0m, \u001b[38;5;34m30\u001b[0m, \u001b[38;5;34m30\u001b[0m, \u001b[38;5;34m128\u001b[0m)    │        \u001b[38;5;34m73,856\u001b[0m │\n",
       "├─────────────────────────────────┼────────────────────────┼───────────────┤\n",
       "│ conv2d_5 (\u001b[38;5;33mConv2D\u001b[0m)               │ (\u001b[38;5;45mNone\u001b[0m, \u001b[38;5;34m28\u001b[0m, \u001b[38;5;34m28\u001b[0m, \u001b[38;5;34m128\u001b[0m)    │       \u001b[38;5;34m147,584\u001b[0m │\n",
       "├─────────────────────────────────┼────────────────────────┼───────────────┤\n",
       "│ max_pooling2d_2 (\u001b[38;5;33mMaxPooling2D\u001b[0m)  │ (\u001b[38;5;45mNone\u001b[0m, \u001b[38;5;34m14\u001b[0m, \u001b[38;5;34m14\u001b[0m, \u001b[38;5;34m128\u001b[0m)    │             \u001b[38;5;34m0\u001b[0m │\n",
       "├─────────────────────────────────┼────────────────────────┼───────────────┤\n",
       "│ conv2d_6 (\u001b[38;5;33mConv2D\u001b[0m)               │ (\u001b[38;5;45mNone\u001b[0m, \u001b[38;5;34m14\u001b[0m, \u001b[38;5;34m14\u001b[0m, \u001b[38;5;34m256\u001b[0m)    │       \u001b[38;5;34m295,168\u001b[0m │\n",
       "├─────────────────────────────────┼────────────────────────┼───────────────┤\n",
       "│ conv2d_7 (\u001b[38;5;33mConv2D\u001b[0m)               │ (\u001b[38;5;45mNone\u001b[0m, \u001b[38;5;34m12\u001b[0m, \u001b[38;5;34m12\u001b[0m, \u001b[38;5;34m256\u001b[0m)    │       \u001b[38;5;34m590,080\u001b[0m │\n",
       "├─────────────────────────────────┼────────────────────────┼───────────────┤\n",
       "│ max_pooling2d_3 (\u001b[38;5;33mMaxPooling2D\u001b[0m)  │ (\u001b[38;5;45mNone\u001b[0m, \u001b[38;5;34m6\u001b[0m, \u001b[38;5;34m6\u001b[0m, \u001b[38;5;34m256\u001b[0m)      │             \u001b[38;5;34m0\u001b[0m │\n",
       "├─────────────────────────────────┼────────────────────────┼───────────────┤\n",
       "│ conv2d_8 (\u001b[38;5;33mConv2D\u001b[0m)               │ (\u001b[38;5;45mNone\u001b[0m, \u001b[38;5;34m6\u001b[0m, \u001b[38;5;34m6\u001b[0m, \u001b[38;5;34m512\u001b[0m)      │     \u001b[38;5;34m1,180,160\u001b[0m │\n",
       "├─────────────────────────────────┼────────────────────────┼───────────────┤\n",
       "│ conv2d_9 (\u001b[38;5;33mConv2D\u001b[0m)               │ (\u001b[38;5;45mNone\u001b[0m, \u001b[38;5;34m4\u001b[0m, \u001b[38;5;34m4\u001b[0m, \u001b[38;5;34m512\u001b[0m)      │     \u001b[38;5;34m2,359,808\u001b[0m │\n",
       "├─────────────────────────────────┼────────────────────────┼───────────────┤\n",
       "│ max_pooling2d_4 (\u001b[38;5;33mMaxPooling2D\u001b[0m)  │ (\u001b[38;5;45mNone\u001b[0m, \u001b[38;5;34m2\u001b[0m, \u001b[38;5;34m2\u001b[0m, \u001b[38;5;34m512\u001b[0m)      │             \u001b[38;5;34m0\u001b[0m │\n",
       "├─────────────────────────────────┼────────────────────────┼───────────────┤\n",
       "│ flatten (\u001b[38;5;33mFlatten\u001b[0m)               │ (\u001b[38;5;45mNone\u001b[0m, \u001b[38;5;34m2048\u001b[0m)           │             \u001b[38;5;34m0\u001b[0m │\n",
       "├─────────────────────────────────┼────────────────────────┼───────────────┤\n",
       "│ dropout (\u001b[38;5;33mDropout\u001b[0m)               │ (\u001b[38;5;45mNone\u001b[0m, \u001b[38;5;34m2048\u001b[0m)           │             \u001b[38;5;34m0\u001b[0m │\n",
       "├─────────────────────────────────┼────────────────────────┼───────────────┤\n",
       "│ dense (\u001b[38;5;33mDense\u001b[0m)                   │ (\u001b[38;5;45mNone\u001b[0m, \u001b[38;5;34m1500\u001b[0m)           │     \u001b[38;5;34m3,073,500\u001b[0m │\n",
       "├─────────────────────────────────┼────────────────────────┼───────────────┤\n",
       "│ dropout_1 (\u001b[38;5;33mDropout\u001b[0m)             │ (\u001b[38;5;45mNone\u001b[0m, \u001b[38;5;34m1500\u001b[0m)           │             \u001b[38;5;34m0\u001b[0m │\n",
       "├─────────────────────────────────┼────────────────────────┼───────────────┤\n",
       "│ dense_1 (\u001b[38;5;33mDense\u001b[0m)                 │ (\u001b[38;5;45mNone\u001b[0m, \u001b[38;5;34m38\u001b[0m)             │        \u001b[38;5;34m57,038\u001b[0m │\n",
       "└─────────────────────────────────┴────────────────────────┴───────────────┘\n"
      ]
     },
     "metadata": {},
     "output_type": "display_data"
    },
    {
     "data": {
      "text/html": [
       "<pre style=\"white-space:pre;overflow-x:auto;line-height:normal;font-family:Menlo,'DejaVu Sans Mono',consolas,'Courier New',monospace\"><span style=\"font-weight: bold\"> Total params: </span><span style=\"color: #00af00; text-decoration-color: #00af00\">7,842,762</span> (29.92 MB)\n",
       "</pre>\n"
      ],
      "text/plain": [
       "\u001b[1m Total params: \u001b[0m\u001b[38;5;34m7,842,762\u001b[0m (29.92 MB)\n"
      ]
     },
     "metadata": {},
     "output_type": "display_data"
    },
    {
     "data": {
      "text/html": [
       "<pre style=\"white-space:pre;overflow-x:auto;line-height:normal;font-family:Menlo,'DejaVu Sans Mono',consolas,'Courier New',monospace\"><span style=\"font-weight: bold\"> Trainable params: </span><span style=\"color: #00af00; text-decoration-color: #00af00\">7,842,762</span> (29.92 MB)\n",
       "</pre>\n"
      ],
      "text/plain": [
       "\u001b[1m Trainable params: \u001b[0m\u001b[38;5;34m7,842,762\u001b[0m (29.92 MB)\n"
      ]
     },
     "metadata": {},
     "output_type": "display_data"
    },
    {
     "data": {
      "text/html": [
       "<pre style=\"white-space:pre;overflow-x:auto;line-height:normal;font-family:Menlo,'DejaVu Sans Mono',consolas,'Courier New',monospace\"><span style=\"font-weight: bold\"> Non-trainable params: </span><span style=\"color: #00af00; text-decoration-color: #00af00\">0</span> (0.00 B)\n",
       "</pre>\n"
      ],
      "text/plain": [
       "\u001b[1m Non-trainable params: \u001b[0m\u001b[38;5;34m0\u001b[0m (0.00 B)\n"
      ]
     },
     "metadata": {},
     "output_type": "display_data"
    }
   ],
   "source": [
    "model.summary()"
   ]
  },
  {
   "cell_type": "markdown",
   "id": "71742cc7-89b8-483c-9016-1b17fd426dc8",
   "metadata": {},
   "source": [
    "## Training Of Model"
   ]
  },
  {
   "cell_type": "code",
   "execution_count": 22,
   "id": "75756e75-981b-4c1d-8919-5205d60cefa8",
   "metadata": {},
   "outputs": [
    {
     "name": "stdout",
     "output_type": "stream",
     "text": [
      "Epoch 1/10\n",
      "\u001b[1m2197/2197\u001b[0m \u001b[32m━━━━━━━━━━━━━━━━━━━━\u001b[0m\u001b[37m\u001b[0m \u001b[1m1488s\u001b[0m 673ms/step - accuracy: 0.3942 - loss: 2.1445 - val_accuracy: 0.8331 - val_loss: 0.5082\n",
      "Epoch 2/10\n",
      "\u001b[1m2197/2197\u001b[0m \u001b[32m━━━━━━━━━━━━━━━━━━━━\u001b[0m\u001b[37m\u001b[0m \u001b[1m1489s\u001b[0m 678ms/step - accuracy: 0.8274 - loss: 0.5421 - val_accuracy: 0.9113 - val_loss: 0.2682\n",
      "Epoch 3/10\n",
      "\u001b[1m2197/2197\u001b[0m \u001b[32m━━━━━━━━━━━━━━━━━━━━\u001b[0m\u001b[37m\u001b[0m \u001b[1m1690s\u001b[0m 769ms/step - accuracy: 0.9020 - loss: 0.3025 - val_accuracy: 0.9252 - val_loss: 0.2263\n",
      "Epoch 4/10\n",
      "\u001b[1m2197/2197\u001b[0m \u001b[32m━━━━━━━━━━━━━━━━━━━━\u001b[0m\u001b[37m\u001b[0m \u001b[1m1718s\u001b[0m 782ms/step - accuracy: 0.9341 - loss: 0.2031 - val_accuracy: 0.9412 - val_loss: 0.1773\n",
      "Epoch 5/10\n",
      "\u001b[1m2197/2197\u001b[0m \u001b[32m━━━━━━━━━━━━━━━━━━━━\u001b[0m\u001b[37m\u001b[0m \u001b[1m1582s\u001b[0m 720ms/step - accuracy: 0.9487 - loss: 0.1573 - val_accuracy: 0.9487 - val_loss: 0.1621\n",
      "Epoch 6/10\n",
      "\u001b[1m2197/2197\u001b[0m \u001b[32m━━━━━━━━━━━━━━━━━━━━\u001b[0m\u001b[37m\u001b[0m \u001b[1m1574s\u001b[0m 717ms/step - accuracy: 0.9603 - loss: 0.1173 - val_accuracy: 0.9566 - val_loss: 0.1373\n",
      "Epoch 7/10\n",
      "\u001b[1m2197/2197\u001b[0m \u001b[32m━━━━━━━━━━━━━━━━━━━━\u001b[0m\u001b[37m\u001b[0m \u001b[1m1531s\u001b[0m 697ms/step - accuracy: 0.9694 - loss: 0.0951 - val_accuracy: 0.9483 - val_loss: 0.1652\n",
      "Epoch 8/10\n",
      "\u001b[1m2197/2197\u001b[0m \u001b[32m━━━━━━━━━━━━━━━━━━━━\u001b[0m\u001b[37m\u001b[0m \u001b[1m1454s\u001b[0m 662ms/step - accuracy: 0.9748 - loss: 0.0748 - val_accuracy: 0.9646 - val_loss: 0.1126\n",
      "Epoch 9/10\n",
      "\u001b[1m2197/2197\u001b[0m \u001b[32m━━━━━━━━━━━━━━━━━━━━\u001b[0m\u001b[37m\u001b[0m \u001b[1m1437s\u001b[0m 654ms/step - accuracy: 0.9778 - loss: 0.0680 - val_accuracy: 0.9598 - val_loss: 0.1309\n",
      "Epoch 10/10\n",
      "\u001b[1m2197/2197\u001b[0m \u001b[32m━━━━━━━━━━━━━━━━━━━━\u001b[0m\u001b[37m\u001b[0m \u001b[1m1430s\u001b[0m 651ms/step - accuracy: 0.9796 - loss: 0.0626 - val_accuracy: 0.9470 - val_loss: 0.1923\n"
     ]
    }
   ],
   "source": [
    "training_history = model.fit(x=training_set,validation_data=validation_set,epochs=10)"
   ]
  },
  {
   "cell_type": "markdown",
   "id": "7d1428b8-eb22-4c36-8d83-4d75b9c995d0",
   "metadata": {},
   "source": [
    "## Evaluation of Model"
   ]
  },
  {
   "cell_type": "code",
   "execution_count": 23,
   "id": "e4bf0408-68cb-4847-a944-08be2b8a0b4b",
   "metadata": {},
   "outputs": [
    {
     "name": "stdout",
     "output_type": "stream",
     "text": [
      "\u001b[1m2197/2197\u001b[0m \u001b[32m━━━━━━━━━━━━━━━━━━━━\u001b[0m\u001b[37m\u001b[0m \u001b[1m372s\u001b[0m 170ms/step - accuracy: 0.9738 - loss: 0.0793\n"
     ]
    }
   ],
   "source": [
    "#Model Evaluation on training set\n",
    "train_loss,train_acc = model.evaluate(training_set)"
   ]
  },
  {
   "cell_type": "code",
   "execution_count": 24,
   "id": "9fb2673a-dfe0-4ac1-b184-2e193be86c8f",
   "metadata": {},
   "outputs": [
    {
     "name": "stdout",
     "output_type": "stream",
     "text": [
      "0.07346925139427185 0.9758161902427673\n"
     ]
    }
   ],
   "source": [
    "print(train_loss,train_acc)"
   ]
  },
  {
   "cell_type": "markdown",
   "id": "5dd15bab-1108-4358-9e91-cf451ec52b11",
   "metadata": {},
   "source": [
    "## Saving The Model"
   ]
  },
  {
   "cell_type": "code",
   "execution_count": 25,
   "id": "100d518d-ed21-44d6-9585-37df8d69cf6b",
   "metadata": {},
   "outputs": [
    {
     "name": "stdout",
     "output_type": "stream",
     "text": [
      "\u001b[1m550/550\u001b[0m \u001b[32m━━━━━━━━━━━━━━━━━━━━\u001b[0m\u001b[37m\u001b[0m \u001b[1m93s\u001b[0m 170ms/step - accuracy: 0.9432 - loss: 0.2034\n"
     ]
    }
   ],
   "source": [
    "#Model validation set\n",
    "val_loss,val_acc = model.evaluate(validation_set)"
   ]
  },
  {
   "cell_type": "code",
   "execution_count": 27,
   "id": "eca21fcb-2020-4e27-93b4-3c1ea744c1bc",
   "metadata": {},
   "outputs": [
    {
     "name": "stdout",
     "output_type": "stream",
     "text": [
      "0.19232192635536194 0.9470179677009583\n"
     ]
    }
   ],
   "source": [
    "print(val_loss,val_acc)"
   ]
  },
  {
   "cell_type": "code",
   "execution_count": 29,
   "id": "216759b3-c214-483d-a99f-3e8ec715e9ba",
   "metadata": {},
   "outputs": [],
   "source": [
    "model.save(\"trained_model.keras\")"
   ]
  },
  {
   "cell_type": "code",
   "execution_count": null,
   "id": "3923b056-6f43-41bb-9bd7-feeb9a2ef2a8",
   "metadata": {},
   "outputs": [],
   "source": [
    "training_history.history"
   ]
  },
  {
   "cell_type": "markdown",
   "id": "40d13572-e62c-4e75-8f5a-4a577dcab94b",
   "metadata": {},
   "source": [
    "## Saving History In json"
   ]
  },
  {
   "cell_type": "code",
   "execution_count": null,
   "id": "eb0cb54a-ad8b-4918-8587-be330925054f",
   "metadata": {},
   "outputs": [],
   "source": [
    "import json\n",
    "with open(\"training_hist.json\",\"w\") as f:\n",
    "    json.dump(training_history.history,f)"
   ]
  },
  {
   "cell_type": "markdown",
   "id": "0a25bde0-aea6-4ba0-ae13-4e06b8cbc700",
   "metadata": {},
   "source": [
    "## Accuracy Visualization"
   ]
  },
  {
   "cell_type": "code",
   "execution_count": null,
   "id": "e480b956-e38c-409c-8bc7-284a9e07780c",
   "metadata": {},
   "outputs": [],
   "source": [
    "epochs  = [i for i in range(1,11)]\n",
    "epochs"
   ]
  },
  {
   "cell_type": "code",
   "execution_count": null,
   "id": "0c04e08a-bd36-4647-801b-72985de40678",
   "metadata": {},
   "outputs": [],
   "source": [
    "training_history.history['accuracy']"
   ]
  },
  {
   "cell_type": "code",
   "execution_count": null,
   "id": "bc081e91-d101-4978-85d4-67fcc24ebd0c",
   "metadata": {},
   "outputs": [],
   "source": [
    "training_history.history['val_accuracy']"
   ]
  },
  {
   "cell_type": "code",
   "execution_count": null,
   "id": "5dde37e2-5ab9-4248-9e85-1db11ee0776f",
   "metadata": {},
   "outputs": [],
   "source": [
    "epochs  = [i for i in range(1,11)]\n",
    "plt.plot(epochs,training_history.history['accuracy'],color='red',label='Training Accuracy')\n",
    "plt.plot(epochs,training_history.history['val_accuracy'],color='blue',label='Validation Accuracy')\n",
    "plt.xlable(\"NO. of Epochs\")\n",
    "plt.ylable(\"Accuracy Result\")\n",
    "plt.xlable(\"Visualization of Accuracy Result\")\n",
    "plt.legend()\n",
    "plt.show()"
   ]
  },
  {
   "cell_type": "code",
   "execution_count": null,
   "id": "e78af83e-dc44-4f0e-890e-da0ae7a409fb",
   "metadata": {},
   "outputs": [],
   "source": []
  },
  {
   "cell_type": "code",
   "execution_count": null,
   "id": "ecd54893-4512-4a9d-9cf5-fe4d60570233",
   "metadata": {},
   "outputs": [],
   "source": []
  },
  {
   "cell_type": "code",
   "execution_count": null,
   "id": "012d88f3-48da-4166-9f7c-79fa42a3af8a",
   "metadata": {},
   "outputs": [],
   "source": []
  },
  {
   "cell_type": "code",
   "execution_count": null,
   "id": "4ed9f422-92e5-4aea-88bb-016ada0f8a3f",
   "metadata": {},
   "outputs": [],
   "source": []
  },
  {
   "cell_type": "code",
   "execution_count": null,
   "id": "2d9e4b31-fd06-4183-bc11-1bb5e1fa9add",
   "metadata": {},
   "outputs": [],
   "source": []
  },
  {
   "cell_type": "code",
   "execution_count": null,
   "id": "3ea9038e-ef3c-4f26-9e96-9171ccffa56a",
   "metadata": {},
   "outputs": [],
   "source": []
  },
  {
   "cell_type": "code",
   "execution_count": null,
   "id": "b26dc542-29b9-40ed-bb22-81a91f144475",
   "metadata": {},
   "outputs": [],
   "source": []
  },
  {
   "cell_type": "code",
   "execution_count": null,
   "id": "f6ae0998-fa0e-4267-badb-c78f8530fd99",
   "metadata": {},
   "outputs": [],
   "source": []
  },
  {
   "cell_type": "code",
   "execution_count": null,
   "id": "01f9d31d-c665-4b03-a57b-c60a8b079db2",
   "metadata": {},
   "outputs": [],
   "source": []
  },
  {
   "cell_type": "code",
   "execution_count": null,
   "id": "7a755b2f-ad73-4ba1-8533-95eed19f0dfe",
   "metadata": {},
   "outputs": [],
   "source": []
  },
  {
   "cell_type": "code",
   "execution_count": null,
   "id": "df244af5-02be-4e9c-b9a7-82521c865f4e",
   "metadata": {},
   "outputs": [],
   "source": []
  },
  {
   "cell_type": "code",
   "execution_count": null,
   "id": "7c3f6ec7-9754-496c-8d39-2c56ce8f942a",
   "metadata": {},
   "outputs": [],
   "source": []
  },
  {
   "cell_type": "code",
   "execution_count": null,
   "id": "1c48f9aa-203e-4d7d-8585-6e035d7d890d",
   "metadata": {},
   "outputs": [],
   "source": []
  },
  {
   "cell_type": "code",
   "execution_count": null,
   "id": "6555ac21-80d4-44d6-927b-998fd8805b7d",
   "metadata": {},
   "outputs": [],
   "source": []
  },
  {
   "cell_type": "code",
   "execution_count": null,
   "id": "5581becc-8abf-4669-a1f4-c23b2f2cf72b",
   "metadata": {},
   "outputs": [],
   "source": []
  }
 ],
 "metadata": {
  "kernelspec": {
   "display_name": "Python 3 (ipykernel)",
   "language": "python",
   "name": "python3"
  },
  "language_info": {
   "codemirror_mode": {
    "name": "ipython",
    "version": 3
   },
   "file_extension": ".py",
   "mimetype": "text/x-python",
   "name": "python",
   "nbconvert_exporter": "python",
   "pygments_lexer": "ipython3",
   "version": "3.12.4"
  }
 },
 "nbformat": 4,
 "nbformat_minor": 5
}
